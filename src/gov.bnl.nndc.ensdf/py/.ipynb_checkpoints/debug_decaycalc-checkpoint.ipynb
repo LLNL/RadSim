{
 "cells": [
  {
   "cell_type": "code",
   "execution_count": 1,
   "id": "f92a2018-aa23-4fcf-abb4-0fe4cbdbed6d",
   "metadata": {},
   "outputs": [
    {
     "name": "stdout",
     "output_type": "stream",
     "text": [
      "/Users/hangal1/Documents/research/rda/radsim/proj-radsim/src\n"
     ]
    }
   ],
   "source": [
    "import startJVM\n",
    "import jpype\n",
    "import jpype.imports\n",
    "import numpy as np\n",
    "import matplotlib.pyplot as plt"
   ]
  },
  {
   "cell_type": "code",
   "execution_count": 2,
   "id": "4c05d844-bc3e-4e0e-af68-a2fdd514c7bc",
   "metadata": {},
   "outputs": [],
   "source": [
    "from gov.llnl.rtk.physics import Nuclides\n",
    "from gov.llnl.rtk.physics import SourceImpl\n",
    "from gov.llnl.rtk.physics import EmissionCalculator\n",
    "from gov.bnl.nndc.ensdf.decay import BNLDecayLibrary\n",
    "from gov.llnl.rtk.physics import Quantity"
   ]
  },
  {
   "cell_type": "code",
   "execution_count": 3,
   "id": "6349d6d4-5a70-4b21-a9db-3fa4eccdfabb",
   "metadata": {},
   "outputs": [],
   "source": [
    "from java.nio.file import Paths\n",
    "\n",
    "bnllib = BNLDecayLibrary()\n",
    "bnllib.loadFile(Paths.get(\"BNL2023.txt\"))"
   ]
  },
  {
   "cell_type": "code",
   "execution_count": 6,
   "id": "1792066b-f616-48e8-9850-dfe582d2756a",
   "metadata": {},
   "outputs": [
    {
     "name": "stdout",
     "output_type": "stream",
     "text": [
      "[Source(U238,1.000e+02)]\n",
      "[Source(U238,1.000e+02)]\n",
      "Source(U238,1.000e+02)\n",
      "U238  Th234\n",
      "java.util.NoSuchElementException: Unable to find nuclide Th234\n"
     ]
    }
   ],
   "source": [
    "from java.util import ArrayList\n",
    "from gov.llnl.rtk.physics import DecayCalculator\n",
    "\n",
    "#add aging of Cs137 source\n",
    "dc = DecayCalculator()\n",
    "dc.setDecayLibrary(bnllib)\n",
    "\n",
    "U235 = SourceImpl.fromActivity(Nuclides.get(\"U235\"), Quantity.of(100,\"Bq\"))\n",
    "sourceList = ArrayList()\n",
    "sourceList.add(U235)\n",
    "\n",
    "try:\n",
    "    aged_sourceList = dc.age(sourceList,1)\n",
    "except Exception as e:\n",
    "    print(e)"
   ]
  },
  {
   "cell_type": "code",
   "execution_count": null,
   "id": "7579f652-ba1d-41ef-8e54-c3172b84ab64",
   "metadata": {},
   "outputs": [],
   "source": []
  }
 ],
 "metadata": {
  "kernelspec": {
   "display_name": "Python 3 (ipykernel)",
   "language": "python",
   "name": "python3"
  },
  "language_info": {
   "codemirror_mode": {
    "name": "ipython",
    "version": 3
   },
   "file_extension": ".py",
   "mimetype": "text/x-python",
   "name": "python",
   "nbconvert_exporter": "python",
   "pygments_lexer": "ipython3",
   "version": "3.13.2"
  }
 },
 "nbformat": 4,
 "nbformat_minor": 5
}

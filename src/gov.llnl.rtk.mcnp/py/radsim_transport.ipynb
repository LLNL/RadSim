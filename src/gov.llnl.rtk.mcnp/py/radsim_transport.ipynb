{
 "cells": [
  {
   "cell_type": "markdown",
   "id": "3e7f2314-6987-4b8c-87b3-013fe9bea9fd",
   "metadata": {},
   "source": [
    "## Import libraries"
   ]
  },
  {
   "cell_type": "code",
   "execution_count": 1,
   "id": "3a8f6c59-6e6b-46cf-bebc-a37be840947f",
   "metadata": {
    "tags": []
   },
   "outputs": [],
   "source": [
    "import jpype\n",
    "import jpype.imports\n",
    "DEVEL = '/usr/workspace/hangal1/RDA/RadSim/proj-radsim/jars/'\n",
    "jpype.startJVM(classpath=[\"%s/*\"%DEVEL])"
   ]
  },
  {
   "cell_type": "code",
   "execution_count": 2,
   "id": "e148aaa1-f7f5-4069-baec-001c60fa5d9e",
   "metadata": {
    "tags": []
   },
   "outputs": [],
   "source": [
    "from gov.llnl.ensdf.decay import BNLDecayLibrary\n",
    "from gov.llnl.rtk.physics import EmissionCalculator, DecayCalculator, SourceImpl, Nuclides, Elements, ActivityUnit, EmissionConverter\n",
    "from gov.llnl.rtk.physics import SphericalModel, LayerImpl, MaterialImpl\n",
    "from gov.llnl.rtk.physics import Section, SphericalSection, CylindricalSection, ConicalSection\n",
    "from gov.llnl.rtk.mcnp import MCNP_Photon, MCNP_Electron, RadSim_MCNP_Job\n",
    "from gov.llnl.math.euclidean import Vector3\n",
    "from gov.llnl.rtk.flux import FluxTrapezoid, FluxGroupTrapezoid\n",
    "\n",
    "import numpy as np\n",
    "import matplotlib.pyplot as plt\n",
    "import re\n",
    "from java.nio.file import Path\n",
    "from java.util import ArrayList\n",
    "\n",
    "from source_flux import parse_beta_file\n",
    "from source_flux import get_flux_from_lines\n",
    "from source_flux import add_fluxes\n",
    "from geometry import get_offset_vector\n",
    "from build_mcnp_job import build_mcnp_job"
   ]
  },
  {
   "cell_type": "markdown",
   "id": "57753c49-90cc-4375-b51f-e1d6233660de",
   "metadata": {},
   "source": [
    "## Define source nuclide and get flux"
   ]
  },
  {
   "cell_type": "code",
   "execution_count": 3,
   "id": "d4ff40f3-f5d8-407d-870b-a8f6644569bb",
   "metadata": {
    "tags": []
   },
   "outputs": [],
   "source": [
    "do_betas = True\n",
    "\n",
    "# Declare source list\n",
    "source_nuclide = 'Cs137'\n",
    "Bq = ActivityUnit.Bq\n",
    "activity = 1e5 #Bq\n",
    "\n",
    "sourceList = ArrayList()\n",
    "sourceList.add(SourceImpl.fromActivity(Nuclides.get(source_nuclide), activity, Bq))\n",
    "\n",
    "# Load the decay library\n",
    "decay_lib = BNLDecayLibrary()\n",
    "decay_lib.loadFile(Path.of(\"/usr/workspace/hangal1/RDA/RadSim/proj-radsim/src/gov.llnl.rtk.mcnp/data/BNL2023.txt\"))\n",
    "\n",
    "# Setup decay calculator\n",
    "decayCalculator = DecayCalculator()\n",
    "decayCalculator.setDecayLibrary(decay_lib)\n",
    "\n",
    "# Age the source to secular equilibrium\n",
    "eqbm_sourceList = decayCalculator.age(sourceList,10000) #?\n",
    "\n",
    "# Setup emission calculator\n",
    "emissionCalculator = EmissionCalculator()\n",
    "emissionCalculator.setDecayLibrary(decay_lib)\n",
    "\n",
    "# Calculate the emissions\n",
    "emissions = emissionCalculator.calculate(eqbm_sourceList)\n",
    "\n",
    "# Create the gamma emmision list\n",
    "emissionList = ArrayList()\n",
    "for gamma in emissions.getGammas():\n",
    "    emissionList.add(gamma)    \n",
    "\n",
    "#convert emission list to flux\n",
    "line_flux = get_flux_from_lines(emissionList)\n",
    "if(do_betas): beta_flux = parse_beta_file(source_nuclide, activity)\n",
    "\n",
    "# get number of source particles\n",
    "num_source_gammas = int(np.sum([gamma.getCounts() for gamma in line_flux.getPhotonGroups()]))\n",
    "num_source_betas = int(np.sum([beta.getCounts() for beta in beta_flux.getPhotonGroups()]))"
   ]
  },
  {
   "cell_type": "markdown",
   "id": "758d08df-98f2-48e9-b75c-d6f00d278dc2",
   "metadata": {},
   "source": [
    "## Define source and environment geometry"
   ]
  },
  {
   "cell_type": "markdown",
   "id": "436ff3be-d7f8-45af-8b50-4703841287bd",
   "metadata": {
    "tags": []
   },
   "source": [
    "### Define materials"
   ]
  },
  {
   "cell_type": "code",
   "execution_count": 4,
   "id": "943dc2e3-7d3f-4572-ae70-fa4ec9d4903b",
   "metadata": {
    "tags": []
   },
   "outputs": [],
   "source": [
    "def get_material(elements, atoms, density, name):\n",
    "    #calculate mass\n",
    "    total_mass = 0\n",
    "    for element, atom in zip(elements,atoms):\n",
    "        symbol = re.sub('[^a-zA-Z]+', '', element)\n",
    "        total_mass += atom*(Elements.get(symbol).getMolarMass())\n",
    "    \n",
    "    #create Material\n",
    "    material = MaterialImpl()\n",
    "    for element, atom in zip(elements,atoms):   \n",
    "        symbol = re.sub('[^a-zA-Z]+', '', element)\n",
    "        element_mass = Elements.get(symbol).getMolarMass()\n",
    "        material.addElement(element, atom*element_mass/total_mass, 0.0)\n",
    "    \n",
    "    material.setDensity(density)\n",
    "    return material\n",
    "\n",
    "# Define materials\n",
    "#get_material(elements, atoms, density (g/cm3), name)\n",
    "lead = get_material(['Pb208'], [1], 11.34, 'lead')\n",
    "cs_oxide = get_material(['Cs137','O16'], [1,2], 4.65, 'cs_oxide')"
   ]
  },
  {
   "cell_type": "markdown",
   "id": "ec0fceea-c524-45bc-b558-e04a61ae28db",
   "metadata": {},
   "source": [
    "### Define geometries\n",
    "\n",
    "#### Supported geometries\n",
    "#### Spherical\n",
    "- SphericalSection(origin, axis, theta1, theta2, phi1, phi2, inner radius, outer radius)\n",
    "- SphericalSection.Sphere(origin, radius)\n",
    "- SphericalSection.HollowSphere(origin, innerRadius, outerRadius)\n",
    "- SphericalSection.HalfHollowSphere(origin, axis, innerRadius, outerRadius)\n",
    "- SphericalSection.HalfSphere(origin, axis, radius)\n",
    "#### Cylindrical\n",
    "- CylindricalSection(origin, axis, phi1, phi2, inner radius, outer radius, height)\n",
    "- CylindricalSection.Cylinder(origin, axis, radius, height)\n",
    "#### Conical\n",
    "- ConicalSection(origin, axis, theta1, theta2, phi1, phi2, start length, end length)    \n",
    "- ConicalSection.Cone(origin, axis, theta, length)\n",
    "\n",
    "length in cm\\\n",
    "0 < theta < pi\\\n",
    "0 < phi < 2pi\n"
   ]
  },
  {
   "cell_type": "code",
   "execution_count": 5,
   "id": "f681982f-dc1c-41df-9a45-1cac8bf86da9",
   "metadata": {
    "tags": []
   },
   "outputs": [],
   "source": [
    "# Define sections\n",
    "sections = []    \n",
    "\n",
    "#First section always source\n",
    "#SphericalSection.Sphere(origin, radius)\n",
    "origin = Vector3.ZERO\n",
    "radius = 1.0\n",
    "sphere = SphericalSection.Sphere(origin, radius)\n",
    "sphere.setMaterial(cs_oxide)\n",
    "sections.append(sphere)\n",
    "\n",
    "#Shielding Sections from here on\n",
    "#SphericalSection(origin, axis, theta1, theta2, phi1, phi2, inner radius, outer radius)\n",
    "thickness = 0.01\n",
    "origin = Vector3.ZERO\n",
    "axis=Vector3.AXIS_Z\n",
    "theta1, theta2 = 0.0, np.pi/2 #0 < theta < pi\n",
    "phi1, phi2 = 0.0, 2*np.pi #0 < phi < 2pi\n",
    "innerRadius = 1.5\n",
    "outerRadius = 1.5 + thickness\n",
    "cap = SphericalSection(origin, axis, theta1, theta2, phi1, phi2, innerRadius, outerRadius)\n",
    "cap.setMaterial(lead)\n",
    "sections.append(cap)\n",
    "\n",
    "#CylindricalSection(origin, axis, phi1, phi2, inner radius, outer radius, height)\n",
    "axis = Vector3.AXIS_Z\n",
    "thickness = 0.01\n",
    "origin = get_offset_vector(-3.0, axis)\n",
    "phi1, phi2 = 0.0, np.pi/2 #0 < theta < 2pi\n",
    "innerRadius = 1.5\n",
    "outerRadius = 1.5 + thickness\n",
    "height = 3.0\n",
    "container = CylindricalSection(origin, axis, phi1, phi2, innerRadius, outerRadius, height)\n",
    "container.setMaterial(lead)\n",
    "sections.append(container)\n",
    "\n",
    "#CylindricalSection.Cylinder(origin, axis, radius, height)\n",
    "origin = get_offset_vector(-2.75, axis)\n",
    "axis = Vector3.AXIS_Z\n",
    "radius = 1.5\n",
    "height = 0.5\n",
    "floor = CylindricalSection.Cylinder(origin, axis, radius, height)\n",
    "floor.setMaterial(lead)\n",
    "sections.append(floor)\n",
    "\n",
    "#ConicalSection(origin, axis, theta1, theta2, phi1, phi2, start length, end length)\n",
    "#0 < theta < pi and 0 < phi < 2pi, axis points towards tapering section    \n",
    "origin = Vector3.ZERO\n",
    "axis = Vector3.AXIS_Z\n",
    "reverse_axis = Vector3.of(-axis.getX(), -axis.getY(), -axis.getZ())\n",
    "theta1, theta2 = np.pi/16, 5*np.pi/32 #0 < theta < pi\n",
    "phi1, phi2 = 0.0, np.pi/2 #0 < theta < 2pi\n",
    "startLength = 1.0\n",
    "endLength = 2.25\n",
    "holder = ConicalSection(origin, reverse_axis, theta1, theta2, phi1, phi2, startLength, endLength)\n",
    "holder.setMaterial(lead)\n",
    "sections.append(holder)"
   ]
  },
  {
   "cell_type": "markdown",
   "id": "0f54a172-639a-4d7d-8d1e-9e51816a5c9a",
   "metadata": {
    "tags": []
   },
   "source": [
    "### Declare source geometry and shielding sections"
   ]
  },
  {
   "cell_type": "code",
   "execution_count": 6,
   "id": "87fafa6b-8510-4c21-8ea7-b4ceb8ac8482",
   "metadata": {
    "tags": []
   },
   "outputs": [],
   "source": [
    "# Get the source sections\n",
    "source_section = sections[0]\n",
    "shielding_sections = sections[1::]"
   ]
  },
  {
   "cell_type": "markdown",
   "id": "942754bc-db97-42d3-9509-3421de07b2e5",
   "metadata": {},
   "source": [
    "## Define MCNP job"
   ]
  },
  {
   "cell_type": "code",
   "execution_count": 7,
   "id": "922afbe0-c12e-4256-8a60-e070aa8b9895",
   "metadata": {},
   "outputs": [],
   "source": [
    "num_tasks=int(8)\n",
    "\n",
    "# Set some particle options\n",
    "p = MCNP_Photon()\n",
    "e = MCNP_Electron()\n",
    "e.setNumBremPhotonsPerStep(1000)\n",
    "e.setNumBremPerStep(1000)\n",
    "\n",
    "mcnp_path = '/collab/usr/gapps/mcnp/toss_4_x86_64_ib/bin/mcnp6'\n",
    "\n",
    "results = {}"
   ]
  },
  {
   "cell_type": "markdown",
   "id": "f02a49f9-4e15-4d60-9b41-138b84479bff",
   "metadata": {},
   "source": [
    "## Run MCNP job"
   ]
  },
  {
   "cell_type": "code",
   "execution_count": null,
   "id": "5902178b-87ca-4cd3-875e-a42f7a12b647",
   "metadata": {
    "tags": []
   },
   "outputs": [
    {
     "name": "stdout",
     "output_type": "stream",
     "text": [
      "/collab/usr/gapps/mcnp/toss_4_x86_64_ib/bin/mcnp6 i=/g/g90/hangal1/radsim_package/test_dir/RadSim_SourceGen_Test_1726865318532.input o=/g/g90/hangal1/radsim_package/test_dir/RadSim_SourceGen_Test_1726865318532.output run=/g/g90/hangal1/radsim_package/test_dir/RadSim_SourceGen_Test_1726865318532.run tasks 8\n",
      "          Code Name & Version = mcnp6, 6.3.0, production\n",
      "          Copyright Triad National Security, LLC/LANL/DOE - see LICENSE file\n",
      "  \n",
      "     _/      _/        _/_/_/       _/      _/       _/_/_/         _/_/_/ \n",
      "    _/_/  _/_/      _/             _/_/    _/       _/    _/     _/        \n",
      "   _/  _/  _/      _/             _/  _/  _/       _/_/_/       _/_/_/     \n",
      "  _/      _/      _/             _/    _/_/       _/           _/    _/    \n",
      " _/      _/        _/_/_/       _/      _/       _/             _/_/       \n",
      "  \n",
      " mcnp6 ver=6.3.0, ld=05/12/23  09/20/24 13:48:38                   \n",
      "Source version = release/6.3-6bfd83016b\n",
      "  comment.  Physics models disabled.\n",
      " 1 s 0.0 0.0 0.0 5.0                                                  \n",
      "  warning.  this surface has been replaced by a surface of type so\n",
      " fcl:p 0.0 0.0                                                        \n",
      "  warning.          2 entries not equal to number of cells =        3.\n",
      " bbrem 1.0 1.0 46i 100.0                                              \n",
      "  warning.  bbrem material entry missing.  default is 1st material.\n",
      " 1.162 1.162 1.165 1.165 1.168 1.168 1.171 1.171 1.174 1.174 1.1756300\n",
      "  warning.  some entries are equal.\n",
      " comment. using random number generator  1, initial seed = 19073486328125      \n",
      " \n",
      "  warning.     2 energy bins of tally       21 are below energy cutoff.\n",
      "  warning.     2 energy bins of tally       11 are below energy cutoff.\n",
      "  warning.  no cross-section tables are called for in this problem.\n",
      "  comment.  threading will be used when possible in portions of mcnp6.\n",
      "  comment.  threading will be used for n/p/e table physics.\n",
      "  comment.  threading will generally not be used for model physics.\n",
      " imcn   is done\n",
      "\n",
      "\n",
      " ctm =        0.00   nrn =                 0\n",
      " dump    1 on file /g/g90/hangal1/radsim_package/test_dir/RadSim_SourceGen_Test_1726865318532.run   nps =           0  \n",
      " coll =                0\n",
      " xact   is done\n",
      "\n",
      " cp0 =   0.04\n",
      "      run terminated when    10000310  particle histories were done.\n",
      "\n",
      " =====>    2541.75 M histories/hr    (based on wall-clock time in mcrun)\n",
      "\n",
      "\n",
      "  warning.     1 of   2 tallies did not pass all 10 statistical checks.\n",
      "  warning.     1 of   2 tallies were all zeros.\n",
      "\n",
      " ctm =        1.86   nrn =          35462442\n",
      " dump    2 on file /g/g90/hangal1/radsim_package/test_dir/RadSim_SourceGen_Test_1726865318532.run   nps =    10000310  \n",
      " coll =                0\n",
      " mcrun  is done\n",
      "\n",
      " /usr/apps/tracker/bin/tracker                                    -n mcnp6 -v 6.\n",
      " 3.0 -W  1.153E+02 -P   1 -T   8                  \n",
      "/collab/usr/gapps/mcnp/toss_4_x86_64_ib/bin/mcnp6 i=/g/g90/hangal1/radsim_package/test_dir/RadSim_SourceGen_Test_1726865338731.input o=/g/g90/hangal1/radsim_package/test_dir/RadSim_SourceGen_Test_1726865338731.output run=/g/g90/hangal1/radsim_package/test_dir/RadSim_SourceGen_Test_1726865338731.run tasks 8\n",
      "          Code Name & Version = mcnp6, 6.3.0, production\n",
      "          Copyright Triad National Security, LLC/LANL/DOE - see LICENSE file\n",
      "  \n",
      "     _/      _/        _/_/_/       _/      _/       _/_/_/         _/_/_/ \n",
      "    _/_/  _/_/      _/             _/_/    _/       _/    _/     _/        \n",
      "   _/  _/  _/      _/             _/  _/  _/       _/_/_/       _/_/_/     \n",
      "  _/      _/      _/             _/    _/_/       _/           _/    _/    \n",
      " _/      _/        _/_/_/       _/      _/       _/             _/_/       \n",
      "  \n",
      " mcnp6 ver=6.3.0, ld=05/12/23  09/20/24 13:48:58                   \n",
      "Source version = release/6.3-6bfd83016b\n",
      "  comment.  Physics models disabled.\n",
      " 15 s 0.0 0.0 0.0 5.0                                                 \n",
      "  warning.  this surface has been replaced by a surface of type so\n",
      " fcl:p 0.0 0.0 0.0 0.0 0.0 0.0                                        \n",
      "  warning.          6 entries not equal to number of cells =        7.\n",
      " 1.162 1.162 1.165 1.165 1.168 1.168 1.171 1.171 1.174 1.174 1.1756300\n",
      "  warning.  some entries are equal.\n",
      " comment. using random number generator  1, initial seed = 19073486328125      \n",
      " \n",
      "  comment.           3 surfaces were deleted for being the same as others.\n",
      "  warning.     2 energy bins of tally       21 are below energy cutoff.\n",
      "  warning.     2 energy bins of tally       11 are below energy cutoff.\n",
      "  comment.  threading will be used when possible in portions of mcnp6.\n",
      "  comment.  threading will be used for n/p/e table physics.\n",
      "  comment.  threading will generally not be used for model physics.\n",
      " imcn   is done\n",
      "\n",
      "  warning.  material        1 has been set to a conductor.\n",
      "  warning.  material        2 has been set to a conductor.\n",
      "  warning.  material        3 has been set to a conductor.\n",
      "  warning.  material        4 has been set to a conductor.\n",
      "\n",
      " ctm =        0.00   nrn =                 0\n",
      " dump    1 on file /g/g90/hangal1/radsim_package/test_dir/RadSim_SourceGen_Test_1726865338731.run   nps =           0  \n",
      " coll =                0\n",
      " xact   is done\n",
      "\n",
      " cp0 =   0.06\n",
      " **** interrupt.  enter s (status), m (mcplot), q (quit), k (kill)\n"
     ]
    }
   ],
   "source": [
    "#declare beta flux\n",
    "results['Beta Source'] = FluxTrapezoid()\n",
    "results['Gamma From Betas'] = FluxTrapezoid()\n",
    "\n",
    "lower_bins = []\n",
    "upper_bins = []\n",
    "for group in line_flux.getPhotonGroups():\n",
    "    lower_bins.append(group.getEnergyLower())\n",
    "    upper_bins.append(group.getEnergyUpper())\n",
    "for lower, upper in zip(lower_bins, upper_bins):\n",
    "    results['Beta Source'].addPhotonGroup(FluxGroupTrapezoid(lower, upper, 0, 0.0))\n",
    "    results['Gamma From Betas'].addPhotonGroup(FluxGroupTrapezoid(lower, upper, 0, 0.0))\n",
    "\n",
    "#addSurfaceCurrentTally(key, origin, radius) of sphere for tallying    \n",
    "#process betas\n",
    "if(do_betas):\n",
    "    # MCNP Beta Run (No Detector Tally, No Source Geometry)\n",
    "    job = build_mcnp_job(mcnp_path, beta_flux, e, [p], num_particles=num_source_betas)\n",
    "    #addSurfaceCurrentTally(String key, Vector3 origin, double radius)\n",
    "    job.addSurfaceCurrentTally(\"Source Tally\", Vector3.of(0.0, 0.0, 0.0), 5.0)\n",
    "    job.run(num_tasks)\n",
    "    results['Beta Source'] = job.getTallySpectrum(\"Source Tally\", e, True)\n",
    "\n",
    "    # MCNP Beta Run (No Detector Tally)\n",
    "    job = build_mcnp_job(mcnp_path, beta_flux, e, [p], source_section=None, sections=shielding_sections, num_particles=num_source_betas)\n",
    "    job.addSurfaceCurrentTally(\"Source Tally\", Vector3.of(0.0, 0.0, 0.0), 5.0)\n",
    "    job.run(num_tasks)\n",
    "    results['Gamma From Betas'] = job.getTallySpectrum(\"Source Tally\", p, True)\n",
    "\n",
    "# MCNP Gamma Run (No Detector Tally, No Source Geometry)\n",
    "job = build_mcnp_job(mcnp_path, line_flux, p, num_particles=num_source_gammas)\n",
    "job.addSurfaceCurrentTally(\"Source Tally\", Vector3.of(0.0, 0.0, 0.0), 5.0)\n",
    "job.run(num_tasks)\n",
    "results['Gamma Source'] = job.getTallySpectrum(\"Source Tally\", p, True)\n",
    "\n",
    "# MCNP Gamma Run (No Detector Tally)\n",
    "job = build_mcnp_job(mcnp_path, line_flux, p, source_section=None, sections=shielding_sections, num_particles=num_source_gammas)\n",
    "job.addSurfaceCurrentTally(\"Source Tally\", Vector3.of(0.0, 0.0, 0.0), 5.0)\n",
    "job.run(num_tasks)\n",
    "results['Attenuated Gammas'] = job.getTallySpectrum(\"Source Tally\", p, True)\n",
    "\n",
    "# MCNP detector transport (No Source Geometry)\n",
    "total_flux = add_fluxes([results['Gamma From Betas'], results['Attenuated Gammas']])\n",
    "job = build_mcnp_job(mcnp_path, total_flux, p, num_particles=num_source_gammas)\n",
    "job.addSurfaceCurrentTally(\"Detector Tally\", Vector3.of(0.0, 0.0, 10.0), 1.0)\n",
    "job.run(num_tasks)\n",
    "results['Gammas At Detector'] = job.getTallySpectrum(\"Detector Tally\", p, False)           # Note the false indicates particles entering the sphere"
   ]
  },
  {
   "cell_type": "markdown",
   "id": "393def47-a51b-469b-9452-00cc48daaf9f",
   "metadata": {},
   "source": [
    "### Plotting macro for RadSim flux"
   ]
  },
  {
   "cell_type": "code",
   "execution_count": null,
   "id": "5f9871c9-14b0-44c7-9caf-6bf4147120ef",
   "metadata": {
    "tags": []
   },
   "outputs": [],
   "source": [
    "def plot_spectra(flux, **kwargs):\n",
    "    groups = flux.getPhotonGroups()\n",
    "    bins = [groups[0].getEnergyLower()]\n",
    "    counts = []\n",
    "    for group in groups:\n",
    "        bins.append(group.getEnergyUpper())\n",
    "        counts.append(group.getCounts())\n",
    "    bins = np.array(bins)\n",
    "    centers = 0.5 * (bins[0:-1] + bins[1::])\n",
    "    counts_per_keV = counts / (bins[1::] - bins[0:-1]) / 1e3\n",
    "    plt.plot(centers, counts_per_keV, **kwargs)\n",
    "    plt.ylabel('Counts per keV per source particle')\n",
    "    plt.xlabel('Energy [keV]')"
   ]
  },
  {
   "cell_type": "code",
   "execution_count": null,
   "id": "58d02d50-0458-46d0-899f-8a950461c951",
   "metadata": {},
   "outputs": [],
   "source": [
    "# beta spectrum\n",
    "if(do_betas):\n",
    "    plt.clf()\n",
    "    plot_spectra(results['Beta Source'], color='k')\n",
    "    plt.title(source_nuclide+'Beta Spectrum')\n",
    "    plt.ylim([10**-10, 10**-5])\n",
    "    plt.xlim([0.0, 1500])\n",
    "    plt.yscale('log')\n",
    "    plt.show()"
   ]
  },
  {
   "cell_type": "code",
   "execution_count": null,
   "id": "0e5adc2b-f76d-40e0-97e6-4b7cdffa186e",
   "metadata": {
    "tags": []
   },
   "outputs": [],
   "source": [
    "# gammas from source \n",
    "plt.clf()\n",
    "plot_spectra(results['Gamma Source'], color='k')\n",
    "plt.title(source_nuclide+'Gamma Spectrum')\n",
    "# plt.ylim([10**-10, 10**-5])\n",
    "plt.xlim([0.0, 1500])\n",
    "plt.yscale('log')\n",
    "plt.show()"
   ]
  },
  {
   "cell_type": "code",
   "execution_count": null,
   "id": "c9ac8d8f-69b5-40c7-9e67-db7b35e70a42",
   "metadata": {
    "tags": []
   },
   "outputs": [],
   "source": [
    "#gammas with source geometry and detector tally\n",
    "plt.clf()\n",
    "plot_spectra(results['Gamma From Betas'], label='Gammas from Betas', color='r')\n",
    "plot_spectra(results['Attenuated Gammas'], label='Direct Gammas', color='g')\n",
    "plot_spectra(total_flux, label='Total', color='k')\n",
    "plot_spectra(results['Gammas At Detector'], label='Gammas at Detector', color='b', ls='--')\n",
    "plt.title(source_nuclide)\n",
    "plt.ylim([10**-14, 10**-2])\n",
    "plt.xlim([0.0, 1500])\n",
    "plt.yscale('log')\n",
    "plt.legend()\n",
    "plt.show()"
   ]
  },
  {
   "cell_type": "code",
   "execution_count": null,
   "id": "b620c3d0-5ce3-42d0-8e8a-eb16cfd12270",
   "metadata": {},
   "outputs": [],
   "source": []
  }
 ],
 "metadata": {
  "kernelspec": {
   "display_name": "rda_venv",
   "language": "python",
   "name": "rda_venv"
  },
  "language_info": {
   "codemirror_mode": {
    "name": "ipython",
    "version": 3
   },
   "file_extension": ".py",
   "mimetype": "text/x-python",
   "name": "python",
   "nbconvert_exporter": "python",
   "pygments_lexer": "ipython3",
   "version": "3.9.12"
  }
 },
 "nbformat": 4,
 "nbformat_minor": 5
}
